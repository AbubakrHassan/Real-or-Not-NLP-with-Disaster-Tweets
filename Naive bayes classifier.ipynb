{
 "cells": [
  {
   "cell_type": "code",
   "execution_count": 26,
   "metadata": {},
   "outputs": [],
   "source": [
    "import numpy as np\n",
    "import re\n",
    "import pandas as pd\n",
    "import seaborn as sns\n",
    "import matplotlib.pyplot as plt\n",
    "from sklearn.naive_bayes import MultinomialNB\n",
    "from sklearn.model_selection import train_test_split\n",
    "from sklearn.feature_extraction.text import CountVectorizer\n",
    "import urllib\n",
    "np.random.seed(100)"
   ]
  },
  {
   "cell_type": "code",
   "execution_count": 27,
   "metadata": {},
   "outputs": [],
   "source": [
    "def read_data(path,testing=False):\n",
    "    data = pd.read_csv(path)\n",
    "    \n",
    "    data[\"keyword\"].replace(np.nan,\"-\",inplace=True)\n",
    "    data[\"keyword\"] = data[\"keyword\"].apply(lambda x:urllib.parse.unquote(x))\n",
    "    \n",
    "    data[\"location\"].replace(np.nan,\"-\",inplace=True)\n",
    "    data[\"location\"] = data[\"location\"].apply(lambda x: re.sub(\"[^-a-zA-Z\\s]\",\"\",x))\n",
    "    \n",
    "    data[\"text\"] = data[\"text\"].apply(lambda x: re.sub(\"[^\\w\\s#'_]\",\"\",x)).apply(lambda x:x.lower())\n",
    "    data[\"text\"] = data[\"text\"].apply(lambda x: \" \".join([a for a in re.split(\"([#$])\",x) if len(a)!=0]))\n",
    "    \n",
    "    new_data = pd.DataFrame()\n",
    "    new_data[\"id\"] = data[\"id\"]\n",
    "    new_data[\"text\"] = data[\"keyword\"] + \" \" + data[\"location\"]+ \" \" + data[\"text\"]\n",
    "    if not testing:\n",
    "        new_data[\"target\"] = data[\"target\"]\n",
    "    return new_data"
   ]
  },
  {
   "cell_type": "code",
   "execution_count": 28,
   "metadata": {},
   "outputs": [
    {
     "data": {
      "text/html": [
       "<div>\n",
       "<style scoped>\n",
       "    .dataframe tbody tr th:only-of-type {\n",
       "        vertical-align: middle;\n",
       "    }\n",
       "\n",
       "    .dataframe tbody tr th {\n",
       "        vertical-align: top;\n",
       "    }\n",
       "\n",
       "    .dataframe thead th {\n",
       "        text-align: right;\n",
       "    }\n",
       "</style>\n",
       "<table border=\"1\" class=\"dataframe\">\n",
       "  <thead>\n",
       "    <tr style=\"text-align: right;\">\n",
       "      <th></th>\n",
       "      <th>id</th>\n",
       "      <th>text</th>\n",
       "      <th>target</th>\n",
       "    </tr>\n",
       "  </thead>\n",
       "  <tbody>\n",
       "    <tr>\n",
       "      <th>0</th>\n",
       "      <td>1</td>\n",
       "      <td>- - our deeds are the reason of this  # earthq...</td>\n",
       "      <td>1</td>\n",
       "    </tr>\n",
       "    <tr>\n",
       "      <th>1</th>\n",
       "      <td>4</td>\n",
       "      <td>- - forest fire near la ronge sask canada</td>\n",
       "      <td>1</td>\n",
       "    </tr>\n",
       "    <tr>\n",
       "      <th>2</th>\n",
       "      <td>5</td>\n",
       "      <td>- - all residents asked to 'shelter in place' ...</td>\n",
       "      <td>1</td>\n",
       "    </tr>\n",
       "    <tr>\n",
       "      <th>3</th>\n",
       "      <td>6</td>\n",
       "      <td>- - 13000 people receive  # wildfires evacuati...</td>\n",
       "      <td>1</td>\n",
       "    </tr>\n",
       "    <tr>\n",
       "      <th>4</th>\n",
       "      <td>7</td>\n",
       "      <td>- - just got sent this photo from ruby  # alas...</td>\n",
       "      <td>1</td>\n",
       "    </tr>\n",
       "  </tbody>\n",
       "</table>\n",
       "</div>"
      ],
      "text/plain": [
       "   id                                               text  target\n",
       "0   1  - - our deeds are the reason of this  # earthq...       1\n",
       "1   4          - - forest fire near la ronge sask canada       1\n",
       "2   5  - - all residents asked to 'shelter in place' ...       1\n",
       "3   6  - - 13000 people receive  # wildfires evacuati...       1\n",
       "4   7  - - just got sent this photo from ruby  # alas...       1"
      ]
     },
     "execution_count": 28,
     "metadata": {},
     "output_type": "execute_result"
    }
   ],
   "source": [
    "train_path = \"./data/train.csv\"\n",
    "train_data = read_data(train_path)\n",
    "train_data.head()"
   ]
  },
  {
   "cell_type": "code",
   "execution_count": 42,
   "metadata": {},
   "outputs": [],
   "source": [
    "X_train, X_test, y_train, y_test = train_test_split(train_data[\"text\"], train_data[\"target\"], test_size=0.33, random_state=42)\n",
    "cv = CountVectorizer()\n",
    "cv.fit(X_train.values)\n",
    "X_train = cv.transform(X_train.values).toarray()>=1\n",
    "X_test = cv.transform(X_test.values).toarray()>=1"
   ]
  },
  {
   "cell_type": "code",
   "execution_count": 43,
   "metadata": {},
   "outputs": [
    {
     "data": {
      "text/plain": [
       "MultinomialNB(alpha=1, class_prior=None, fit_prior=True)"
      ]
     },
     "execution_count": 43,
     "metadata": {},
     "output_type": "execute_result"
    }
   ],
   "source": [
    "model = MultinomialNB(alpha=1)\n",
    "model.fit(X_train,y_train)"
   ]
  },
  {
   "cell_type": "code",
   "execution_count": 44,
   "metadata": {},
   "outputs": [
    {
     "name": "stdout",
     "output_type": "stream",
     "text": [
      "0.7946677278153601\n"
     ]
    }
   ],
   "source": [
    "res = model.predict(X_test)\n",
    "print(np.mean(res==y_test))\n"
   ]
  },
  {
   "cell_type": "code",
   "execution_count": 15,
   "metadata": {},
   "outputs": [],
   "source": [
    "test_data = read_data(\"./data/test.csv\",testing=True)"
   ]
  },
  {
   "cell_type": "code",
   "execution_count": 16,
   "metadata": {},
   "outputs": [],
   "source": [
    "X_test = cv.transform(test_data[\"text\"].values).toarray()"
   ]
  },
  {
   "cell_type": "code",
   "execution_count": 17,
   "metadata": {},
   "outputs": [],
   "source": [
    "res = model.predict(X_test)"
   ]
  },
  {
   "cell_type": "code",
   "execution_count": 18,
   "metadata": {},
   "outputs": [],
   "source": [
    "test_res = pd.DataFrame()\n",
    "test_res[\"id\"]= test_data[\"id\"]\n",
    "test_res[\"target\"] = res"
   ]
  },
  {
   "cell_type": "code",
   "execution_count": 23,
   "metadata": {},
   "outputs": [],
   "source": [
    "test_res.to_csv(r\"./result/res_nb.csv\",index=False)"
   ]
  },
  {
   "cell_type": "code",
   "execution_count": null,
   "metadata": {},
   "outputs": [],
   "source": []
  }
 ],
 "metadata": {
  "kernelspec": {
   "display_name": "kaggle-real-or-not-venv",
   "language": "python",
   "name": "kaggle-real-or-not-venv"
  },
  "language_info": {
   "codemirror_mode": {
    "name": "ipython",
    "version": 3
   },
   "file_extension": ".py",
   "mimetype": "text/x-python",
   "name": "python",
   "nbconvert_exporter": "python",
   "pygments_lexer": "ipython3",
   "version": "3.6.5"
  }
 },
 "nbformat": 4,
 "nbformat_minor": 2
}
